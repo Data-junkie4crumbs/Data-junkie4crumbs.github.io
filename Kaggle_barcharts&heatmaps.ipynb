{
  "nbformat": 4,
  "nbformat_minor": 0,
  "metadata": {
    "colab": {
      "name": "Kaggle-barcharts&heatmaps",
      "provenance": [],
      "authorship_tag": "ABX9TyO+FeGo6N3WYNLug4D3x4Dw",
      "include_colab_link": true
    },
    "kernelspec": {
      "name": "python3",
      "display_name": "Python 3"
    }
  },
  "cells": [
    {
      "cell_type": "markdown",
      "metadata": {
        "id": "view-in-github",
        "colab_type": "text"
      },
      "source": [
        "<a href=\"https://colab.research.google.com/github/Data-junkie4crumbs/Data-junkie4crumbs.github.io/blob/master/Kaggle_barcharts%26heatmaps.ipynb\" target=\"_parent\"><img src=\"https://colab.research.google.com/assets/colab-badge.svg\" alt=\"Open In Colab\"/></a>"
      ]
    },
    {
      "cell_type": "code",
      "metadata": {
        "id": "u8waHNRKV4k6",
        "colab_type": "code",
        "colab": {
          "base_uri": "https://localhost:8080/",
          "height": 87
        },
        "outputId": "6aca8d2c-782a-48e4-9cfc-14c725cbea99"
      },
      "source": [
        "import pandas as pd\n",
        "pd.plotting.register_matplotlib_converters()\n",
        "import matplotlib.pyplot as plt\n",
        "%matplotlib inline\n",
        "import seaborn as sns\n",
        "print(\"Setup Complete\")"
      ],
      "execution_count": null,
      "outputs": [
        {
          "output_type": "stream",
          "text": [
            "Setup Complete\n"
          ],
          "name": "stdout"
        },
        {
          "output_type": "stream",
          "text": [
            "/usr/local/lib/python3.6/dist-packages/statsmodels/tools/_testing.py:19: FutureWarning: pandas.util.testing is deprecated. Use the functions in the public API at pandas.testing instead.\n",
            "  import pandas.util.testing as tm\n"
          ],
          "name": "stderr"
        }
      ]
    },
    {
      "cell_type": "code",
      "metadata": {
        "id": "XlNAkfRcHWEO",
        "colab_type": "code",
        "colab": {
          "base_uri": "https://localhost:8080/",
          "height": 54
        },
        "outputId": "ae47be14-074e-4fd2-ac29-db8153b919b4"
      },
      "source": [
        "from google.colab import drive\n",
        "drive.mount('/content/gdrive')"
      ],
      "execution_count": null,
      "outputs": [
        {
          "output_type": "stream",
          "text": [
            "Drive already mounted at /content/gdrive; to attempt to forcibly remount, call drive.mount(\"/content/gdrive\", force_remount=True).\n"
          ],
          "name": "stdout"
        }
      ]
    },
    {
      "cell_type": "code",
      "metadata": {
        "id": "onGfS4EzHwSb",
        "colab_type": "code",
        "colab": {}
      },
      "source": [
        "import os\n",
        "os.environ['KAGGLE_CONFIG_DIR'] = \"/content/gdrive/My Drive/Kaggle\"\n",
        "# /content/gdrive/My Drive/Kaggle is the path where kaggle.json is present in the Google Drive"
      ],
      "execution_count": null,
      "outputs": []
    },
    {
      "cell_type": "code",
      "metadata": {
        "id": "1gv1UdPwIJ7x",
        "colab_type": "code",
        "colab": {
          "base_uri": "https://localhost:8080/",
          "height": 34
        },
        "outputId": "8e5a49d9-db5b-4e90-823e-5c635ea6dfd8"
      },
      "source": [
        "#changing the working directory\n",
        "%cd /content/gdrive/My Drive/Kaggle\n",
        "#Check the present working directory using pwd command"
      ],
      "execution_count": null,
      "outputs": [
        {
          "output_type": "stream",
          "text": [
            "/content/gdrive/My Drive/Kaggle\n"
          ],
          "name": "stdout"
        }
      ]
    },
    {
      "cell_type": "code",
      "metadata": {
        "id": "8T-nFojiJDKC",
        "colab_type": "code",
        "colab": {
          "base_uri": "https://localhost:8080/",
          "height": 67
        },
        "outputId": "cbb2d5d6-6a98-4f12-cfa4-46c7ab47cbd2"
      },
      "source": [
        "!kaggle datasets download -d alexisbcook/data-for-datavis"
      ],
      "execution_count": null,
      "outputs": [
        {
          "output_type": "stream",
          "text": [
            "Downloading data-for-datavis.zip to /content/gdrive/My Drive/Kaggle\n",
            "\r  0% 0.00/91.1k [00:00<?, ?B/s]\n",
            "\r100% 91.1k/91.1k [00:00<00:00, 12.0MB/s]\n"
          ],
          "name": "stdout"
        }
      ]
    },
    {
      "cell_type": "code",
      "metadata": {
        "id": "hkzPZBSLOEKK",
        "colab_type": "code",
        "colab": {
          "base_uri": "https://localhost:8080/",
          "height": 185
        },
        "outputId": "f7063ba9-5e2f-468d-82ed-1d669e6295b0"
      },
      "source": [
        "!ls"
      ],
      "execution_count": null,
      "outputs": [
        {
          "output_type": "stream",
          "text": [
            "'1. Weather Data (1).csv'\t  iris.csv\n",
            " cancer_b.csv\t\t\t  iris_setosa.csv\n",
            " cancer_m.csv\t\t\t  iris_versicolor.csv\n",
            " candy.csv\t\t\t  iris_virginica.csv\n",
            " data-for-datavis.zip\t\t  kaggle_flight_delays.csv\n",
            " fifa.csv\t\t\t  kaggle.json\n",
            " flight_delays.csv\t\t  museum_visitors.csv\n",
            " How-to-fetch-kaggle-data.ipynb   Sales_April_2019.csv\n",
            " ign_scores.csv\t\t\t  spotify.csv\n",
            " insurance.csv\n"
          ],
          "name": "stdout"
        }
      ]
    },
    {
      "cell_type": "code",
      "metadata": {
        "id": "UCu0z3miOoA2",
        "colab_type": "code",
        "colab": {
          "base_uri": "https://localhost:8080/",
          "height": 470
        },
        "outputId": "31c922f2-38fc-44f0-a22a-d65dd9e60996"
      },
      "source": [
        "#unzipping the zip files and deleting the zip files\n",
        "!unzip \\*.zip  && rm *.zip"
      ],
      "execution_count": null,
      "outputs": [
        {
          "output_type": "stream",
          "text": [
            "Archive:  data-for-datavis.zip\n",
            "replace cancer_b.csv? [y]es, [n]o, [A]ll, [N]one, [r]ename: y\n",
            "  inflating: cancer_b.csv            \n",
            "replace cancer_m.csv? [y]es, [n]o, [A]ll, [N]one, [r]ename: y\n",
            "  inflating: cancer_m.csv            \n",
            "replace candy.csv? [y]es, [n]o, [A]ll, [N]one, [r]ename: y\n",
            "  inflating: candy.csv               \n",
            "replace fifa.csv? [y]es, [n]o, [A]ll, [N]one, [r]ename: y\n",
            "  inflating: fifa.csv                \n",
            "replace flight_delays.csv? [y]es, [n]o, [A]ll, [N]one, [r]ename: y\n",
            "  inflating: flight_delays.csv       \n",
            "replace ign_scores.csv? [y]es, [n]o, [A]ll, [N]one, [r]ename: y\n",
            "  inflating: ign_scores.csv          \n",
            "replace insurance.csv? [y]es, [n]o, [A]ll, [N]one, [r]ename: y\n",
            "  inflating: insurance.csv           \n",
            "replace iris.csv? [y]es, [n]o, [A]ll, [N]one, [r]ename: y\n",
            "  inflating: iris.csv                \n",
            "replace iris_setosa.csv? [y]es, [n]o, [A]ll, [N]one, [r]ename: y\n",
            "  inflating: iris_setosa.csv         \n",
            "replace iris_versicolor.csv? [y]es, [n]o, [A]ll, [N]one, [r]ename: y\n",
            "  inflating: iris_versicolor.csv     \n",
            "replace iris_virginica.csv? [y]es, [n]o, [A]ll, [N]one, [r]ename: y\n",
            "  inflating: iris_virginica.csv      \n",
            "replace museum_visitors.csv? [y]es, [n]o, [A]ll, [N]one, [r]ename: y\n",
            "  inflating: museum_visitors.csv     \n",
            "replace spotify.csv? [y]es, [n]o, [A]ll, [N]one, [r]ename: y\n",
            "  inflating: spotify.csv             \n"
          ],
          "name": "stdout"
        }
      ]
    },
    {
      "cell_type": "code",
      "metadata": {
        "id": "FzLpzraHWccM",
        "colab_type": "code",
        "colab": {}
      },
      "source": [
        "# Path of the file to read\n",
        "flight_filepath = '/content/gdrive/My Drive/Kaggle/flight_delays.csv'\n",
        "# Read the file into a variable flight_data\n",
        "flight_data = pd.read_csv(flight_filepath, index_col=\"Month\")\n",
        "\n"
      ],
      "execution_count": null,
      "outputs": []
    },
    {
      "cell_type": "code",
      "metadata": {
        "id": "wLIjGABZezOB",
        "colab_type": "code",
        "colab": {
          "base_uri": "https://localhost:8080/",
          "height": 452
        },
        "outputId": "2816126b-57b3-4781-9153-0432c98d6d00"
      },
      "source": [
        "# Print the data\n",
        "flight_data"
      ],
      "execution_count": null,
      "outputs": [
        {
          "output_type": "execute_result",
          "data": {
            "text/html": [
              "<div>\n",
              "<style scoped>\n",
              "    .dataframe tbody tr th:only-of-type {\n",
              "        vertical-align: middle;\n",
              "    }\n",
              "\n",
              "    .dataframe tbody tr th {\n",
              "        vertical-align: top;\n",
              "    }\n",
              "\n",
              "    .dataframe thead th {\n",
              "        text-align: right;\n",
              "    }\n",
              "</style>\n",
              "<table border=\"1\" class=\"dataframe\">\n",
              "  <thead>\n",
              "    <tr style=\"text-align: right;\">\n",
              "      <th></th>\n",
              "      <th>AA</th>\n",
              "      <th>AS</th>\n",
              "      <th>B6</th>\n",
              "      <th>DL</th>\n",
              "      <th>EV</th>\n",
              "      <th>F9</th>\n",
              "      <th>HA</th>\n",
              "      <th>MQ</th>\n",
              "      <th>NK</th>\n",
              "      <th>OO</th>\n",
              "      <th>UA</th>\n",
              "      <th>US</th>\n",
              "      <th>VX</th>\n",
              "      <th>WN</th>\n",
              "    </tr>\n",
              "    <tr>\n",
              "      <th>Month</th>\n",
              "      <th></th>\n",
              "      <th></th>\n",
              "      <th></th>\n",
              "      <th></th>\n",
              "      <th></th>\n",
              "      <th></th>\n",
              "      <th></th>\n",
              "      <th></th>\n",
              "      <th></th>\n",
              "      <th></th>\n",
              "      <th></th>\n",
              "      <th></th>\n",
              "      <th></th>\n",
              "      <th></th>\n",
              "    </tr>\n",
              "  </thead>\n",
              "  <tbody>\n",
              "    <tr>\n",
              "      <th>1</th>\n",
              "      <td>6.955843</td>\n",
              "      <td>-0.320888</td>\n",
              "      <td>7.347281</td>\n",
              "      <td>-2.043847</td>\n",
              "      <td>8.537497</td>\n",
              "      <td>18.357238</td>\n",
              "      <td>3.512640</td>\n",
              "      <td>18.164974</td>\n",
              "      <td>11.398054</td>\n",
              "      <td>10.889894</td>\n",
              "      <td>6.352729</td>\n",
              "      <td>3.107457</td>\n",
              "      <td>1.420702</td>\n",
              "      <td>3.389466</td>\n",
              "    </tr>\n",
              "    <tr>\n",
              "      <th>2</th>\n",
              "      <td>7.530204</td>\n",
              "      <td>-0.782923</td>\n",
              "      <td>18.657673</td>\n",
              "      <td>5.614745</td>\n",
              "      <td>10.417236</td>\n",
              "      <td>27.424179</td>\n",
              "      <td>6.029967</td>\n",
              "      <td>21.301627</td>\n",
              "      <td>16.474466</td>\n",
              "      <td>9.588895</td>\n",
              "      <td>7.260662</td>\n",
              "      <td>7.114455</td>\n",
              "      <td>7.784410</td>\n",
              "      <td>3.501363</td>\n",
              "    </tr>\n",
              "    <tr>\n",
              "      <th>3</th>\n",
              "      <td>6.693587</td>\n",
              "      <td>-0.544731</td>\n",
              "      <td>10.741317</td>\n",
              "      <td>2.077965</td>\n",
              "      <td>6.730101</td>\n",
              "      <td>20.074855</td>\n",
              "      <td>3.468383</td>\n",
              "      <td>11.018418</td>\n",
              "      <td>10.039118</td>\n",
              "      <td>3.181693</td>\n",
              "      <td>4.892212</td>\n",
              "      <td>3.330787</td>\n",
              "      <td>5.348207</td>\n",
              "      <td>3.263341</td>\n",
              "    </tr>\n",
              "    <tr>\n",
              "      <th>4</th>\n",
              "      <td>4.931778</td>\n",
              "      <td>-3.009003</td>\n",
              "      <td>2.780105</td>\n",
              "      <td>0.083343</td>\n",
              "      <td>4.821253</td>\n",
              "      <td>12.640440</td>\n",
              "      <td>0.011022</td>\n",
              "      <td>5.131228</td>\n",
              "      <td>8.766224</td>\n",
              "      <td>3.223796</td>\n",
              "      <td>4.376092</td>\n",
              "      <td>2.660290</td>\n",
              "      <td>0.995507</td>\n",
              "      <td>2.996399</td>\n",
              "    </tr>\n",
              "    <tr>\n",
              "      <th>5</th>\n",
              "      <td>5.173878</td>\n",
              "      <td>-1.716398</td>\n",
              "      <td>-0.709019</td>\n",
              "      <td>0.149333</td>\n",
              "      <td>7.724290</td>\n",
              "      <td>13.007554</td>\n",
              "      <td>0.826426</td>\n",
              "      <td>5.466790</td>\n",
              "      <td>22.397347</td>\n",
              "      <td>4.141162</td>\n",
              "      <td>6.827695</td>\n",
              "      <td>0.681605</td>\n",
              "      <td>7.102021</td>\n",
              "      <td>5.680777</td>\n",
              "    </tr>\n",
              "    <tr>\n",
              "      <th>6</th>\n",
              "      <td>8.191017</td>\n",
              "      <td>-0.220621</td>\n",
              "      <td>5.047155</td>\n",
              "      <td>4.419594</td>\n",
              "      <td>13.952793</td>\n",
              "      <td>19.712951</td>\n",
              "      <td>0.882786</td>\n",
              "      <td>9.639323</td>\n",
              "      <td>35.561501</td>\n",
              "      <td>8.338477</td>\n",
              "      <td>16.932663</td>\n",
              "      <td>5.766296</td>\n",
              "      <td>5.779415</td>\n",
              "      <td>10.743462</td>\n",
              "    </tr>\n",
              "    <tr>\n",
              "      <th>7</th>\n",
              "      <td>3.870440</td>\n",
              "      <td>0.377408</td>\n",
              "      <td>5.841454</td>\n",
              "      <td>1.204862</td>\n",
              "      <td>6.926421</td>\n",
              "      <td>14.464543</td>\n",
              "      <td>2.001586</td>\n",
              "      <td>3.980289</td>\n",
              "      <td>14.352382</td>\n",
              "      <td>6.790333</td>\n",
              "      <td>10.262551</td>\n",
              "      <td>NaN</td>\n",
              "      <td>7.135773</td>\n",
              "      <td>10.504942</td>\n",
              "    </tr>\n",
              "    <tr>\n",
              "      <th>8</th>\n",
              "      <td>3.193907</td>\n",
              "      <td>2.503899</td>\n",
              "      <td>9.280950</td>\n",
              "      <td>0.653114</td>\n",
              "      <td>5.154422</td>\n",
              "      <td>9.175737</td>\n",
              "      <td>7.448029</td>\n",
              "      <td>1.896565</td>\n",
              "      <td>20.519018</td>\n",
              "      <td>5.606689</td>\n",
              "      <td>5.014041</td>\n",
              "      <td>NaN</td>\n",
              "      <td>5.106221</td>\n",
              "      <td>5.532108</td>\n",
              "    </tr>\n",
              "    <tr>\n",
              "      <th>9</th>\n",
              "      <td>-1.432732</td>\n",
              "      <td>-1.813800</td>\n",
              "      <td>3.539154</td>\n",
              "      <td>-3.703377</td>\n",
              "      <td>0.851062</td>\n",
              "      <td>0.978460</td>\n",
              "      <td>3.696915</td>\n",
              "      <td>-2.167268</td>\n",
              "      <td>8.000101</td>\n",
              "      <td>1.530896</td>\n",
              "      <td>-1.794265</td>\n",
              "      <td>NaN</td>\n",
              "      <td>0.070998</td>\n",
              "      <td>-1.336260</td>\n",
              "    </tr>\n",
              "    <tr>\n",
              "      <th>10</th>\n",
              "      <td>-0.580930</td>\n",
              "      <td>-2.993617</td>\n",
              "      <td>3.676787</td>\n",
              "      <td>-5.011516</td>\n",
              "      <td>2.303760</td>\n",
              "      <td>0.082127</td>\n",
              "      <td>0.467074</td>\n",
              "      <td>-3.735054</td>\n",
              "      <td>6.810736</td>\n",
              "      <td>1.750897</td>\n",
              "      <td>-2.456542</td>\n",
              "      <td>NaN</td>\n",
              "      <td>2.254278</td>\n",
              "      <td>-0.688851</td>\n",
              "    </tr>\n",
              "    <tr>\n",
              "      <th>11</th>\n",
              "      <td>0.772630</td>\n",
              "      <td>-1.916516</td>\n",
              "      <td>1.418299</td>\n",
              "      <td>-3.175414</td>\n",
              "      <td>4.415930</td>\n",
              "      <td>11.164527</td>\n",
              "      <td>-2.719894</td>\n",
              "      <td>0.220061</td>\n",
              "      <td>7.543881</td>\n",
              "      <td>4.925548</td>\n",
              "      <td>0.281064</td>\n",
              "      <td>NaN</td>\n",
              "      <td>0.116370</td>\n",
              "      <td>0.995684</td>\n",
              "    </tr>\n",
              "    <tr>\n",
              "      <th>12</th>\n",
              "      <td>4.149684</td>\n",
              "      <td>-1.846681</td>\n",
              "      <td>13.839290</td>\n",
              "      <td>2.504595</td>\n",
              "      <td>6.685176</td>\n",
              "      <td>9.346221</td>\n",
              "      <td>-1.706475</td>\n",
              "      <td>0.662486</td>\n",
              "      <td>12.733123</td>\n",
              "      <td>10.947612</td>\n",
              "      <td>7.012079</td>\n",
              "      <td>NaN</td>\n",
              "      <td>13.498720</td>\n",
              "      <td>6.720893</td>\n",
              "    </tr>\n",
              "  </tbody>\n",
              "</table>\n",
              "</div>"
            ],
            "text/plain": [
              "             AA        AS         B6  ...        US         VX         WN\n",
              "Month                                 ...                                \n",
              "1      6.955843 -0.320888   7.347281  ...  3.107457   1.420702   3.389466\n",
              "2      7.530204 -0.782923  18.657673  ...  7.114455   7.784410   3.501363\n",
              "3      6.693587 -0.544731  10.741317  ...  3.330787   5.348207   3.263341\n",
              "4      4.931778 -3.009003   2.780105  ...  2.660290   0.995507   2.996399\n",
              "5      5.173878 -1.716398  -0.709019  ...  0.681605   7.102021   5.680777\n",
              "6      8.191017 -0.220621   5.047155  ...  5.766296   5.779415  10.743462\n",
              "7      3.870440  0.377408   5.841454  ...       NaN   7.135773  10.504942\n",
              "8      3.193907  2.503899   9.280950  ...       NaN   5.106221   5.532108\n",
              "9     -1.432732 -1.813800   3.539154  ...       NaN   0.070998  -1.336260\n",
              "10    -0.580930 -2.993617   3.676787  ...       NaN   2.254278  -0.688851\n",
              "11     0.772630 -1.916516   1.418299  ...       NaN   0.116370   0.995684\n",
              "12     4.149684 -1.846681  13.839290  ...       NaN  13.498720   6.720893\n",
              "\n",
              "[12 rows x 14 columns]"
            ]
          },
          "metadata": {
            "tags": []
          },
          "execution_count": 14
        }
      ]
    },
    {
      "cell_type": "code",
      "metadata": {
        "id": "51usxBqBf084",
        "colab_type": "code",
        "colab": {
          "base_uri": "https://localhost:8080/",
          "height": 421
        },
        "outputId": "b6d8d521-3189-4e2c-9d4e-0da2205807c4"
      },
      "source": [
        "# Set the width and height of the figure\n",
        "plt.figure(figsize=(10,6))\n",
        "\n",
        "# Add title\n",
        "plt.title(\"Average Arrival Delay for Spirit Airlines Flights, by Month\")\n",
        "\n",
        "# Bar chart showing average arrival delay for Spirit Airlines flights by month\n",
        "sns.barplot(x=flight_data.index, y=flight_data['NK'])\n",
        "\n",
        "# Add label for vertical axis\n",
        "plt.ylabel(\"Arrival delay (in minutes)\")"
      ],
      "execution_count": null,
      "outputs": [
        {
          "output_type": "execute_result",
          "data": {
            "text/plain": [
              "Text(0, 0.5, 'Arrival delay (in minutes)')"
            ]
          },
          "metadata": {
            "tags": []
          },
          "execution_count": 16
        },
        {
          "output_type": "display_data",
          "data": {
            "image/png": "[encoded data removed]",
            "text/plain": [
              "<Figure size 720x432 with 1 Axes>"
            ]
          },
          "metadata": {
            "tags": [],
            "needs_background": "light"
          }
        }
      ]
    },
    {
      "cell_type": "code",
      "metadata": {
        "id": "fyWAGtWlhEn8",
        "colab_type": "code",
        "colab": {
          "base_uri": "https://localhost:8080/",
          "height": 296
        },
        "outputId": "bbc774e0-a187-481a-b424-b649732e0da2"
      },
      "source": [
        " #Bar chart showing average arrival delay for Spirit Airlines flights by month\n",
        "sns.barplot(x=flight_data.index, y=flight_data['NK'])"
      ],
      "execution_count": null,
      "outputs": [
        {
          "output_type": "execute_result",
          "data": {
            "text/plain": [
              "<matplotlib.axes._subplots.AxesSubplot at 0x7f5702d46828>"
            ]
          },
          "metadata": {
            "tags": []
          },
          "execution_count": 18
        },
        {
          "output_type": "display_data",
          "data": {
            "image/png": "[encoded data removed]",
            "text/plain": [
              "<Figure size 432x288 with 1 Axes>"
            ]
          },
          "metadata": {
            "tags": [],
            "needs_background": "light"
          }
        }
      ]
    },
    {
      "cell_type": "code",
      "metadata": {
        "id": "SsDSLCbzhWsS",
        "colab_type": "code",
        "colab": {
          "base_uri": "https://localhost:8080/",
          "height": 475
        },
        "outputId": "43270c69-9202-4ad4-9c45-9c3e7b69bb02"
      },
      "source": [
        "# Set the width and height of the figure\n",
        "plt.figure(figsize=(14,7))\n",
        "\n",
        "# Add title\n",
        "plt.title(\"Average Arrival Delay for Each Airline, by Month\")\n",
        "\n",
        "# Heatmap showing average arrival delay for each airline by month\n",
        "sns.heatmap(data=flight_data, annot=True)\n",
        "\n",
        "# Add label for horizontal axis\n",
        "plt.xlabel(\"Airline\")"
      ],
      "execution_count": null,
      "outputs": [
        {
          "output_type": "execute_result",
          "data": {
            "text/plain": [
              "Text(0.5, 42.0, 'Airline')"
            ]
          },
          "metadata": {
            "tags": []
          },
          "execution_count": 19
        },
        {
          "output_type": "display_data",
          "data": {
            "image/png": "[encoded data removed]",
            "text/plain": [
              "<Figure size 1008x504 with 2 Axes>"
            ]
          },
          "metadata": {
            "tags": [],
            "needs_background": "light"
          }
        }
      ]
    }
  ]
}